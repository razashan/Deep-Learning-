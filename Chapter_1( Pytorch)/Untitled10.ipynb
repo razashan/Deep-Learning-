{
  "nbformat": 4,
  "nbformat_minor": 0,
  "metadata": {
    "colab": {
      "name": "Untitled10.ipynb",
      "provenance": []
    },
    "kernelspec": {
      "name": "python3",
      "display_name": "Python 3"
    }
  },
  "cells": [
    {
      "cell_type": "code",
      "metadata": {
        "id": "3u9RuYB4Bw_c",
        "colab_type": "code",
        "colab": {}
      },
      "source": [
        "import pandas as pd"
      ],
      "execution_count": 0,
      "outputs": []
    },
    {
      "cell_type": "code",
      "metadata": {
        "id": "AS_DwaDaCMz_",
        "colab_type": "code",
        "colab": {}
      },
      "source": [
        "dataset = pd.read_csv('https://archive.ics.uci.edu/ml/machine-learning-databases/iris/iris.data',\n",
        "                      names=['sepal_length','sepal_width','petal_length','petal_width','species'])"
      ],
      "execution_count": 0,
      "outputs": []
    },
    {
      "cell_type": "code",
      "metadata": {
        "id": "DPUr2_YvCbJl",
        "colab_type": "code",
        "colab": {}
      },
      "source": [
        "dataset['species'] = pd.Categorical(dataset['species']).codes"
      ],
      "execution_count": 0,
      "outputs": []
    },
    {
      "cell_type": "code",
      "metadata": {
        "id": "GvLaDr39CjCD",
        "colab_type": "code",
        "colab": {}
      },
      "source": [
        "dataset = dataset.sample(frac=1,random_state=1234)"
      ],
      "execution_count": 0,
      "outputs": []
    },
    {
      "cell_type": "code",
      "metadata": {
        "id": "I_rf_E2WCnu4",
        "colab_type": "code",
        "colab": {}
      },
      "source": [
        "train_input = dataset.values[:120,:4]\n",
        "train_target = dataset.values[:120,4]"
      ],
      "execution_count": 0,
      "outputs": []
    },
    {
      "cell_type": "code",
      "metadata": {
        "id": "U2ss7dBjCwha",
        "colab_type": "code",
        "colab": {}
      },
      "source": [
        "test_input = dataset.values[120:,:4]\n",
        "test_target = dataset.values[120:,4]"
      ],
      "execution_count": 0,
      "outputs": []
    },
    {
      "cell_type": "code",
      "metadata": {
        "id": "EO5Dv1V7C4Dj",
        "colab_type": "code",
        "colab": {}
      },
      "source": [
        "import torch"
      ],
      "execution_count": 0,
      "outputs": []
    },
    {
      "cell_type": "code",
      "metadata": {
        "id": "vBhF8v-kC5Wn",
        "colab_type": "code",
        "colab": {
          "base_uri": "https://localhost:8080/",
          "height": 34
        },
        "outputId": "9859cc4d-4389-4963-c59a-b14da5ae1c1b"
      },
      "source": [
        "torch.manual_seed(1234)"
      ],
      "execution_count": 8,
      "outputs": [
        {
          "output_type": "execute_result",
          "data": {
            "text/plain": [
              "<torch._C.Generator at 0x7fe1686e59f0>"
            ]
          },
          "metadata": {
            "tags": []
          },
          "execution_count": 8
        }
      ]
    },
    {
      "cell_type": "code",
      "metadata": {
        "id": "GnlFGVisC8mB",
        "colab_type": "code",
        "colab": {}
      },
      "source": [
        "hidden_units = 5\n",
        "net = torch.nn.Sequential(\n",
        "    torch.nn.Linear(4,hidden_units),\n",
        "    torch.nn.ReLU(),\n",
        "    torch.nn.Linear(hidden_units,3)\n",
        ")\n",
        "criterion = torch.nn.CrossEntropyLoss()\n",
        "optimizer = torch.optim.SGD(net.parameters(),lr=0.1,momentum=0.9)\n",
        "epochs = 50\n",
        "for epoch in range(epochs):\n",
        "  inputs = torch.autograd.Variable(torch.Tensor(train_input).float())\n",
        "  targets = torch.autograd.Variable(torch.Tensor(train_target).long())\n",
        "  optimizer.zero_grad()\n",
        "  out = net(inputs)\n",
        "  loss = criterion(out,targets)\n",
        "  loss.backward()\n",
        "  optimizer.step()\n",
        "\n",
        "  if epoch ==0 and (epoch + 1)%10==0:\n",
        "    print('Epoch %d Loss:%.4f' % (epoch+1,loss.data[0]))\n",
        "  \n",
        "import numpy as np\n"
      ],
      "execution_count": 0,
      "outputs": []
    },
    {
      "cell_type": "code",
      "metadata": {
        "id": "Icp44WoJELTG",
        "colab_type": "code",
        "colab": {
          "base_uri": "https://localhost:8080/",
          "height": 34
        },
        "outputId": "7521b034-a7e8-4632-b69f-f90deee722ec"
      },
      "source": [
        "inputs = torch.autograd.Variable(torch.Tensor(test_input).float())\n",
        "targets = torch.autograd.Variable(torch.Tensor(test_target).long())\n",
        "\n",
        "optimizer.zero_grad()\n",
        "out = net(inputs)\n",
        "_,predicted = torch.max(out.data,1)\n",
        "error_count = test_target.size - np.count_nonzero((targets== predicted).numpy())\n",
        "print('Errors: %d; Accuracy: %d%%' %(error_count, 100 * torch.sum(targets==predicted)/test_target.size))"
      ],
      "execution_count": 11,
      "outputs": [
        {
          "output_type": "stream",
          "text": [
            "Errors: 0; Accuracy: 100%\n"
          ],
          "name": "stdout"
        }
      ]
    },
    {
      "cell_type": "code",
      "metadata": {
        "id": "PkTj2fzEFAFV",
        "colab_type": "code",
        "colab": {}
      },
      "source": [
        ""
      ],
      "execution_count": 0,
      "outputs": []
    }
  ]
}