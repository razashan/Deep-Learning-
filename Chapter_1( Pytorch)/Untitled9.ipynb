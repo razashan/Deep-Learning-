{
  "nbformat": 4,
  "nbformat_minor": 0,
  "metadata": {
    "colab": {
      "name": "Untitled9.ipynb",
      "provenance": []
    },
    "kernelspec": {
      "name": "python3",
      "display_name": "Python 3"
    }
  },
  "cells": [
    {
      "cell_type": "code",
      "metadata": {
        "id": "0NqaJ7m99v_m",
        "colab_type": "code",
        "colab": {}
      },
      "source": [
        "import pandas as pd"
      ],
      "execution_count": 0,
      "outputs": []
    },
    {
      "cell_type": "code",
      "metadata": {
        "id": "ey8aYXnO9yKz",
        "colab_type": "code",
        "colab": {}
      },
      "source": [
        "dataset = pd.read_csv('https://archive.ics.uci.edu/ml/machine-learning-databases/iris/iris.data',\n",
        "                      names=['sepal_length','sepal_width','petal_length','petal_width','species'])"
      ],
      "execution_count": 0,
      "outputs": []
    },
    {
      "cell_type": "code",
      "metadata": {
        "id": "N3X4lLPx-H8j",
        "colab_type": "code",
        "colab": {}
      },
      "source": [
        "dataset['species'] = pd.Categorical(dataset['species']).codes"
      ],
      "execution_count": 0,
      "outputs": []
    },
    {
      "cell_type": "code",
      "metadata": {
        "id": "WJRgvrxf-UxR",
        "colab_type": "code",
        "colab": {}
      },
      "source": [
        "dataset = dataset.sample(frac=1,random_state=1234)"
      ],
      "execution_count": 0,
      "outputs": []
    },
    {
      "cell_type": "code",
      "metadata": {
        "id": "emSzeT1c-cCg",
        "colab_type": "code",
        "colab": {}
      },
      "source": [
        "train_input = dataset.values[:120,:4]\n",
        "train_target = dataset.values[:120,4]"
      ],
      "execution_count": 0,
      "outputs": []
    },
    {
      "cell_type": "code",
      "metadata": {
        "id": "eMh2ad0U-ko-",
        "colab_type": "code",
        "colab": {}
      },
      "source": [
        "test_input = dataset.values[120:, :4]\n",
        "test_target = dataset.values[120:,4]"
      ],
      "execution_count": 0,
      "outputs": []
    },
    {
      "cell_type": "code",
      "metadata": {
        "id": "YngfhTsy-tlD",
        "colab_type": "code",
        "colab": {}
      },
      "source": [
        "import torch"
      ],
      "execution_count": 0,
      "outputs": []
    },
    {
      "cell_type": "code",
      "metadata": {
        "id": "NdI_ZyPr-vTF",
        "colab_type": "code",
        "colab": {}
      },
      "source": [
        "hidden_units=5\n",
        "net = torch.nn.Sequential(\n",
        "    torch.nn.Linear(4, hidden_units),\n",
        "    torch.nn.ReLU(),\n",
        "    torch.nn.Linear(hidden_units,3)\n",
        ")\n",
        "criterion = torch.nn.CrossEntropyLoss()\n",
        "optimizer = torch.optim.SGD(net.parameters(),lr=0.1, momentum=0.9)\n",
        "epochs=50"
      ],
      "execution_count": 0,
      "outputs": []
    },
    {
      "cell_type": "code",
      "metadata": {
        "id": "vyy5fsgB_T6Y",
        "colab_type": "code",
        "colab": {
          "base_uri": "https://localhost:8080/",
          "height": 120
        },
        "outputId": "b0f8ebfc-2ce4-4ebf-fd25-a896b59a4519"
      },
      "source": [
        "for epoch in range(epochs):\n",
        "  inputs = torch.autograd.Variable(torch.Tensor(train_input).float())\n",
        "  targets = torch.autograd.Variable(torch.Tensor(train_target).long())\n",
        "  \n",
        "  optimizer.zero_grad()\n",
        "  out = net(inputs)\n",
        "  loss = criterion(out,targets)\n",
        "  loss.backward()\n",
        "  optimizer.step()\n",
        "\n",
        "  if epoch==0 or (epoch+1) %10==0:\n",
        "    print('Epoch %d Loss: %.4f' %(epoch+1, loss.item()))\n",
        "    "
      ],
      "execution_count": 12,
      "outputs": [
        {
          "output_type": "stream",
          "text": [
            "Epoch 1 Loss: 1.1869\n",
            "Epoch 10 Loss: 0.6324\n",
            "Epoch 20 Loss: 0.1798\n",
            "Epoch 30 Loss: 0.0917\n",
            "Epoch 40 Loss: 0.0783\n",
            "Epoch 50 Loss: 0.0742\n"
          ],
          "name": "stdout"
        }
      ]
    },
    {
      "cell_type": "code",
      "metadata": {
        "id": "PI_7i6mpAOxc",
        "colab_type": "code",
        "colab": {}
      },
      "source": [
        "import numpy as np"
      ],
      "execution_count": 0,
      "outputs": []
    },
    {
      "cell_type": "code",
      "metadata": {
        "id": "xSnc49gaAQlq",
        "colab_type": "code",
        "colab": {}
      },
      "source": [
        "inputs = torch.autograd.Variable(torch.Tensor(test_input).float())\n",
        "targets = torch.autograd.Variable(torch.Tensor(test_target).long())\n"
      ],
      "execution_count": 0,
      "outputs": []
    },
    {
      "cell_type": "code",
      "metadata": {
        "id": "5s9NoXezAhGD",
        "colab_type": "code",
        "colab": {
          "base_uri": "https://localhost:8080/",
          "height": 34
        },
        "outputId": "fd05ec97-e7c6-4f95-f17f-e00d1e5fb3a3"
      },
      "source": [
        "optimizer.zero_grad()\n",
        "out = net(inputs)\n",
        "_, predicted = torch.max(out.data,1)\n",
        "error_count = test_target.size - np.count_nonzero((targets == predicted).numpy())\n",
        "print('Errors: %d; Accuracy: %d%%' % (error_count, 100 * torch.sum(targets ==predicted)/ test_target.size))"
      ],
      "execution_count": 16,
      "outputs": [
        {
          "output_type": "stream",
          "text": [
            "Errors: 0; Accuracy: 100%\n"
          ],
          "name": "stdout"
        }
      ]
    },
    {
      "cell_type": "code",
      "metadata": {
        "id": "j4b_k5qMBHCc",
        "colab_type": "code",
        "colab": {}
      },
      "source": [
        ""
      ],
      "execution_count": 0,
      "outputs": []
    }
  ]
}