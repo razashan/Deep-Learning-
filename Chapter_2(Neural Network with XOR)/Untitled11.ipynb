{
  "nbformat": 4,
  "nbformat_minor": 0,
  "metadata": {
    "colab": {
      "name": "Untitled11.ipynb",
      "provenance": []
    },
    "kernelspec": {
      "name": "python3",
      "display_name": "Python 3"
    }
  },
  "cells": [
    {
      "cell_type": "code",
      "metadata": {
        "id": "PQNqrOAFIRrF",
        "colab_type": "code",
        "colab": {}
      },
      "source": [
        "import matplotlib.pyplot as plt\n",
        "import numpy as np"
      ],
      "execution_count": 0,
      "outputs": []
    },
    {
      "cell_type": "code",
      "metadata": {
        "id": "TPNWsO9NIYbC",
        "colab_type": "code",
        "colab": {
          "base_uri": "https://localhost:8080/",
          "height": 375
        },
        "outputId": "f1b7a821-65ea-43a9-8cb9-541d49d85ace"
      },
      "source": [
        "import numpy\n",
        "weight_value = 1000\n",
        "bias_value_1= 5000\n",
        "bias_value_2= -5000\n",
        "plt.axis([-10,10,-1,10])\n",
        "print(\"The step function starts at{0} and ends at {1}\"\n",
        "      .format(-bias_value_1/weight_value,\n",
        "              -bias_value_2/weight_value))\n",
        "inputs = numpy.arange(-10,10,0.01)\n",
        "outputs = list()\n",
        "for x in inputs:\n",
        "  y1 = 1.0/ (1.0 + numpy.exp(-weight_value*x - bias_value_1))\n",
        "  y2 = 1.0/ (1.0 + numpy.exp(-weight_value*x - bias_value_2))\n",
        "\n",
        "  w = 7\n",
        "  y = y1 * w-y2*w\n",
        "  outputs.append(y)\n",
        "\n",
        "plt.plot(inputs,outputs,lw=2,color='black')\n",
        "plt.show()"
      ],
      "execution_count": 6,
      "outputs": [
        {
          "output_type": "stream",
          "text": [
            "The step function starts at-5.0 and ends at 5.0\n"
          ],
          "name": "stdout"
        },
        {
          "output_type": "stream",
          "text": [
            "/usr/local/lib/python3.6/dist-packages/ipykernel_launcher.py:12: RuntimeWarning: overflow encountered in exp\n",
            "  if sys.path[0] == '':\n",
            "/usr/local/lib/python3.6/dist-packages/ipykernel_launcher.py:13: RuntimeWarning: overflow encountered in exp\n",
            "  del sys.path[0]\n"
          ],
          "name": "stderr"
        },
        {
          "output_type": "display_data",
          "data": {
            "image/png": "[encoded data removed]",
            "text/plain": [
              "<Figure size 432x288 with 1 Axes>"
            ]
          },
          "metadata": {
            "tags": []
          }
        }
      ]
    }
  ]
}