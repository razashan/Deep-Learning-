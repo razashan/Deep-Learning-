{
  "nbformat": 4,
  "nbformat_minor": 0,
  "metadata": {
    "colab": {
      "name": "Untitled14.ipynb",
      "provenance": [],
      "collapsed_sections": []
    },
    "kernelspec": {
      "name": "python3",
      "display_name": "Python 3"
    }
  },
  "cells": [
    {
      "cell_type": "code",
      "metadata": {
        "id": "iKhFG0muu6La",
        "colab_type": "code",
        "colab": {
          "base_uri": "https://localhost:8080/",
          "height": 132
        },
        "outputId": "ab945cf1-3251-4cb9-db0a-d9318c1569cc"
      },
      "source": [
        "from keras.datasets import cifar10\n",
        "from keras.layers import Dense, Activation\n",
        "from keras.models import Sequential\n",
        "from keras.utils import np_utils\n",
        "(X_train,Y_train),(X_test,Y_test) = cifar10.load_data()"
      ],
      "execution_count": 1,
      "outputs": [
        {
          "output_type": "stream",
          "text": [
            "Using TensorFlow backend.\n"
          ],
          "name": "stderr"
        },
        {
          "output_type": "display_data",
          "data": {
            "text/html": [
              "<p style=\"color: red;\">\n",
              "The default version of TensorFlow in Colab will soon switch to TensorFlow 2.x.<br>\n",
              "We recommend you <a href=\"https://www.tensorflow.org/guide/migrate\" target=\"_blank\">upgrade</a> now \n",
              "or ensure your notebook will continue to use TensorFlow 1.x via the <code>%tensorflow_version 1.x</code> magic:\n",
              "<a href=\"https://colab.research.google.com/notebooks/tensorflow_version.ipynb\" target=\"_blank\">more info</a>.</p>\n"
            ],
            "text/plain": [
              "<IPython.core.display.HTML object>"
            ]
          },
          "metadata": {
            "tags": []
          }
        },
        {
          "output_type": "stream",
          "text": [
            "Downloading data from https://www.cs.toronto.edu/~kriz/cifar-10-python.tar.gz\n",
            "170500096/170498071 [==============================] - 4s 0us/step\n"
          ],
          "name": "stdout"
        }
      ]
    },
    {
      "cell_type": "code",
      "metadata": {
        "id": "eHq74AefvM-v",
        "colab_type": "code",
        "colab": {
          "base_uri": "https://localhost:8080/",
          "height": 140
        },
        "outputId": "1a857fbc-f14c-4be3-cc9c-d736ca43889e"
      },
      "source": [
        "X_train = X_train.reshape(50000,3072)\n",
        "X_test = X_test.reshape(10000,3072)\n",
        "classes=10\n",
        "Y_train = np_utils.to_categorical(Y_train,classes)\n",
        "Y_test = np_utils.to_categorical(Y_test,classes)\n",
        "\n",
        "input_size = 3072\n",
        "batch_size =100\n",
        "epochs = 10\n",
        "\n",
        "model = Sequential([\n",
        "                    Dense(1024,input_dim=input_size),\n",
        "                    Activation('relu'),\n",
        "                    Dense(512),\n",
        "                    Activation('relu'),\n",
        "                    Dense(512),\n",
        "                    Activation('sigmoid'),\n",
        "                    Dense(classes),\n",
        "                    Activation('softmax')\n",
        "])"
      ],
      "execution_count": 2,
      "outputs": [
        {
          "output_type": "stream",
          "text": [
            "WARNING:tensorflow:From /usr/local/lib/python3.6/dist-packages/keras/backend/tensorflow_backend.py:66: The name tf.get_default_graph is deprecated. Please use tf.compat.v1.get_default_graph instead.\n",
            "\n",
            "WARNING:tensorflow:From /usr/local/lib/python3.6/dist-packages/keras/backend/tensorflow_backend.py:541: The name tf.placeholder is deprecated. Please use tf.compat.v1.placeholder instead.\n",
            "\n",
            "WARNING:tensorflow:From /usr/local/lib/python3.6/dist-packages/keras/backend/tensorflow_backend.py:4432: The name tf.random_uniform is deprecated. Please use tf.random.uniform instead.\n",
            "\n"
          ],
          "name": "stdout"
        }
      ]
    },
    {
      "cell_type": "code",
      "metadata": {
        "id": "MlS1dJO8wCDC",
        "colab_type": "code",
        "colab": {
          "base_uri": "https://localhost:8080/",
          "height": 808
        },
        "outputId": "9b332001-7601-412a-c1da-17c8a1948113"
      },
      "source": [
        "model.compile(loss='categorical_crossentropy',metrics=['accuracy'],optimizer='sgd')\n",
        "model.fit(X_train,Y_train,batch_size=batch_size,epochs=epochs,validation_data=(X_test,Y_test),verbose=1)"
      ],
      "execution_count": 3,
      "outputs": [
        {
          "output_type": "stream",
          "text": [
            "WARNING:tensorflow:From /usr/local/lib/python3.6/dist-packages/keras/optimizers.py:793: The name tf.train.Optimizer is deprecated. Please use tf.compat.v1.train.Optimizer instead.\n",
            "\n",
            "WARNING:tensorflow:From /usr/local/lib/python3.6/dist-packages/keras/backend/tensorflow_backend.py:3576: The name tf.log is deprecated. Please use tf.math.log instead.\n",
            "\n",
            "WARNING:tensorflow:From /tensorflow-1.15.0/python3.6/tensorflow_core/python/ops/math_grad.py:1424: where (from tensorflow.python.ops.array_ops) is deprecated and will be removed in a future version.\n",
            "Instructions for updating:\n",
            "Use tf.where in 2.0, which has the same broadcast rule as np.where\n",
            "WARNING:tensorflow:From /usr/local/lib/python3.6/dist-packages/keras/backend/tensorflow_backend.py:1033: The name tf.assign_add is deprecated. Please use tf.compat.v1.assign_add instead.\n",
            "\n",
            "WARNING:tensorflow:From /usr/local/lib/python3.6/dist-packages/keras/backend/tensorflow_backend.py:1020: The name tf.assign is deprecated. Please use tf.compat.v1.assign instead.\n",
            "\n",
            "WARNING:tensorflow:From /usr/local/lib/python3.6/dist-packages/keras/backend/tensorflow_backend.py:3005: The name tf.Session is deprecated. Please use tf.compat.v1.Session instead.\n",
            "\n",
            "Train on 50000 samples, validate on 10000 samples\n",
            "Epoch 1/10\n",
            "WARNING:tensorflow:From /usr/local/lib/python3.6/dist-packages/keras/backend/tensorflow_backend.py:190: The name tf.get_default_session is deprecated. Please use tf.compat.v1.get_default_session instead.\n",
            "\n",
            "WARNING:tensorflow:From /usr/local/lib/python3.6/dist-packages/keras/backend/tensorflow_backend.py:197: The name tf.ConfigProto is deprecated. Please use tf.compat.v1.ConfigProto instead.\n",
            "\n",
            "WARNING:tensorflow:From /usr/local/lib/python3.6/dist-packages/keras/backend/tensorflow_backend.py:207: The name tf.global_variables is deprecated. Please use tf.compat.v1.global_variables instead.\n",
            "\n",
            "WARNING:tensorflow:From /usr/local/lib/python3.6/dist-packages/keras/backend/tensorflow_backend.py:216: The name tf.is_variable_initialized is deprecated. Please use tf.compat.v1.is_variable_initialized instead.\n",
            "\n",
            "WARNING:tensorflow:From /usr/local/lib/python3.6/dist-packages/keras/backend/tensorflow_backend.py:223: The name tf.variables_initializer is deprecated. Please use tf.compat.v1.variables_initializer instead.\n",
            "\n",
            "50000/50000 [==============================] - 29s 572us/step - loss: 2.1836 - acc: 0.1751 - val_loss: 2.1154 - val_acc: 0.1827\n",
            "Epoch 2/10\n",
            "50000/50000 [==============================] - 28s 562us/step - loss: 2.0751 - acc: 0.2212 - val_loss: 2.0348 - val_acc: 0.2510\n",
            "Epoch 3/10\n",
            "50000/50000 [==============================] - 28s 560us/step - loss: 2.0238 - acc: 0.2493 - val_loss: 1.9794 - val_acc: 0.2741\n",
            "Epoch 4/10\n",
            "50000/50000 [==============================] - 28s 562us/step - loss: 1.9769 - acc: 0.2715 - val_loss: 1.9746 - val_acc: 0.2765\n",
            "Epoch 5/10\n",
            "50000/50000 [==============================] - 28s 559us/step - loss: 1.9482 - acc: 0.2894 - val_loss: 1.9345 - val_acc: 0.2943\n",
            "Epoch 6/10\n",
            "50000/50000 [==============================] - 28s 560us/step - loss: 1.9248 - acc: 0.3018 - val_loss: 1.9140 - val_acc: 0.3011\n",
            "Epoch 7/10\n",
            "50000/50000 [==============================] - 28s 563us/step - loss: 1.9035 - acc: 0.3097 - val_loss: 1.9078 - val_acc: 0.3144\n",
            "Epoch 8/10\n",
            "50000/50000 [==============================] - 28s 560us/step - loss: 1.8848 - acc: 0.3164 - val_loss: 1.8726 - val_acc: 0.3135\n",
            "Epoch 9/10\n",
            "50000/50000 [==============================] - 28s 558us/step - loss: 1.8686 - acc: 0.3246 - val_loss: 1.8618 - val_acc: 0.3318\n",
            "Epoch 10/10\n",
            "50000/50000 [==============================] - 28s 558us/step - loss: 1.8574 - acc: 0.3268 - val_loss: 1.8438 - val_acc: 0.3315\n"
          ],
          "name": "stdout"
        },
        {
          "output_type": "execute_result",
          "data": {
            "text/plain": [
              "<keras.callbacks.History at 0x7fadb7767780>"
            ]
          },
          "metadata": {
            "tags": []
          },
          "execution_count": 3
        }
      ]
    },
    {
      "cell_type": "code",
      "metadata": {
        "id": "wH2Ipal8wXDW",
        "colab_type": "code",
        "colab": {}
      },
      "source": [
        "import matplotlib.pyplot as plt\n",
        "import matplotlib.cm as cm"
      ],
      "execution_count": 0,
      "outputs": []
    },
    {
      "cell_type": "code",
      "metadata": {
        "id": "avWGgMFkwbQi",
        "colab_type": "code",
        "colab": {}
      },
      "source": [
        "import numpy \n",
        "import matplotlib.gridspec as gridspec\n",
        "import random"
      ],
      "execution_count": 0,
      "outputs": []
    },
    {
      "cell_type": "code",
      "metadata": {
        "id": "9U9xBRs-wjO2",
        "colab_type": "code",
        "colab": {
          "base_uri": "https://localhost:8080/",
          "height": 34
        },
        "outputId": "4490e55b-58b5-4c64-a9f2-2cf3324c6a66"
      },
      "source": [
        "fig = plt.figure()\n",
        "outer_grid = gridspec.GridSpec(10,10,wspace=0.0,hspace=0.0)\n",
        "weights = model.layers[0].get_weights()\n",
        "w = weights[0].T"
      ],
      "execution_count": 8,
      "outputs": [
        {
          "output_type": "display_data",
          "data": {
            "text/plain": [
              "<Figure size 432x288 with 0 Axes>"
            ]
          },
          "metadata": {
            "tags": []
          }
        }
      ]
    },
    {
      "cell_type": "code",
      "metadata": {
        "id": "6O3lfJEVw2ve",
        "colab_type": "code",
        "colab": {}
      },
      "source": [
        "for i,neuron in enumerate(random.sample(range(0,1023),100)):\n",
        "  ax = plt.Subplot(fig,outer_grid[i])\n",
        "  ax.imshow(numpy.mean(numpy.reshape(w[i],(32,32,3)),axis=2),cmap=cm.Greys_r)\n",
        "  ax.set_xticks([])\n",
        "  ax.set_yticks([])\n",
        "  fig.add_subplot(ax)\n",
        "\n",
        "\n",
        "plt.show()"
      ],
      "execution_count": 0,
      "outputs": []
    },
    {
      "cell_type": "code",
      "metadata": {
        "id": "hr3egvGyxabc",
        "colab_type": "code",
        "colab": {}
      },
      "source": [
        ""
      ],
      "execution_count": 0,
      "outputs": []
    }
  ]
}