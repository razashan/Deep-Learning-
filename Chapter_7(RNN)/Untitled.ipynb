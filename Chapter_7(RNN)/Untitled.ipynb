{
 "cells": [
  {
   "cell_type": "code",
   "execution_count": 1,
   "metadata": {},
   "outputs": [],
   "source": [
    "import numpy as np"
   ]
  },
  {
   "cell_type": "code",
   "execution_count": 2,
   "metadata": {},
   "outputs": [],
   "source": [
    "import matplotlib.pyplot as plt"
   ]
  },
  {
   "cell_type": "code",
   "execution_count": 7,
   "metadata": {},
   "outputs": [],
   "source": [
    "def step(s,x,U,W):\n",
    "    return x * U + s* W\n",
    "def forward(x,U,W):\n",
    "    number_of_samples = len(x)\n",
    "    sequence_length = len(x[0])\n",
    "    s = np.zeros((number_of_samples,sequence_length +1))\n",
    "    for t in range(0,sequence_length):\n",
    "        s[:,t+1] = step(s[:,t],x[:,t],U,W)\n",
    "    return s"
   ]
  },
  {
   "cell_type": "code",
   "execution_count": 9,
   "metadata": {},
   "outputs": [],
   "source": [
    "def backward(x,s,y,W):\n",
    "    sequence_length = len(x[0])\n",
    "    s_t = s[:,-1]\n",
    "    gS = 2 * (s_t - y)\n",
    "    gU, gW= 0, 0\n",
    "    for k in range(sequence_length,0,-1):\n",
    "        gU +=np.sum(gS * x[:,k -1])\n",
    "        gW +=np.sum(gS * x[:,k-1])\n",
    "        gS = gS *W\n",
    "    return gU, gW"
   ]
  },
  {
   "cell_type": "code",
   "execution_count": 11,
   "metadata": {},
   "outputs": [],
   "source": [
    "def train(x,y,epochs,learning_rate=0.0005):\n",
    "    weights = (-2,0)\n",
    "    losses = list()\n",
    "    weights_u = list()\n",
    "    weights_w = list()\n",
    "    for i in range(epochs):\n",
    "        s = forward(x,weights[0],weights[1])\n",
    "        loss = (y[0]-s[-1,-1])**2\n",
    "        losses.append(loss)\n",
    "        weights_u.append(weights[0])\n",
    "        weights_w.append(weights[1])\n",
    "        gradients = backward(x,s,y,weights[1])\n",
    "        weights = tuple((p- gp * learning_rate) for p, gp in zip(weights, gradients))\n",
    "    print(weights)\n",
    "    return np.array(losses), np.array(weights_u), np.array(weights_w)"
   ]
  },
  {
   "cell_type": "code",
   "execution_count": 13,
   "metadata": {},
   "outputs": [
    {
     "name": "stdout",
     "output_type": "stream",
     "text": [
      "(-2.0, 0.0)\n"
     ]
    },
    {
     "data": {
      "image/png": "[encoded data removed]",
      "text/plain": [
       "<Figure size 360x244.8 with 2 Axes>"
      ]
     },
     "metadata": {
      "needs_background": "light"
     },
     "output_type": "display_data"
    }
   ],
   "source": [
    "def plot_training(losses,weights_u,weights_w):\n",
    "    losses = losses[~np.isnan(losses)][:-1]\n",
    "    weights_u = weights_u[~np.isnan(weights_u)][:-1]\n",
    "    weights_w = weights_w[~np.isnan(weights_w)][:-1]\n",
    "    \n",
    "    fig,ax1 = plt.subplots(figsize=(5,3.4))\n",
    "    \n",
    "    ax1.set_ylim(-3,2)\n",
    "    ax1.set_xlabel('epochs')\n",
    "    ax1.plot(weights_w,label='W',color='red',linestyle='--')\n",
    "    ax1.plot(weights_u,label='U',color='blue',linestyle=':')\n",
    "    ax1.legend(loc='upper left')\n",
    "    \n",
    "    \n",
    "    ax2 = ax1.twinx()\n",
    "    ax2.set_ylim(-3,200)\n",
    "    ax2.plot(losses,label='Loss',color='green')\n",
    "    ax2.tick_params(axis='y',labelcolor='green')\n",
    "    ax2.legend(loc='upper right')\n",
    "    \n",
    "    fig.tight_layout()\n",
    "    plt.show()\n",
    "    \n",
    "#x = np.array([[0, 0, 0, 0, 1, 0, 1, 0, 1, 0]])\n",
    "#y = np.array([3])\n",
    "x = np.array([[0, 0, 0, 0, 1, 0, 1, 0, 1, 0, 0, 0, 0, 0, 1, 0, 1, 0, 1, 0, 0, 0, 0, 0, 1, 0, 1, 0, 1, 0, 0, 0, 0, 0, 1, 0, 1, 0, 1, 0]])\n",
    "y = np.array([12])\n",
    "losses,weight_u,weight_w = train(x,y,epochs=150)\n",
    "plot_training(losses,weight_u,weight_w)"
   ]
  },
  {
   "cell_type": "code",
   "execution_count": 14,
   "metadata": {},
   "outputs": [
    {
     "name": "stdout",
     "output_type": "stream",
     "text": [
      "(-2.0, 0.0)\n"
     ]
    },
    {
     "data": {
      "image/png": "[encoded data removed]",
      "text/plain": [
       "<Figure size 360x244.8 with 2 Axes>"
      ]
     },
     "metadata": {
      "needs_background": "light"
     },
     "output_type": "display_data"
    }
   ],
   "source": [
    "x = np.array([[0, 0, 0, 0, 1, 0, 1, 0, 1, 0]])\n",
    "y = np.array([3])\n",
    "losses,weight_u,weight_w = train(x,y,epochs=150)\n",
    "plot_training(losses,weight_u,weight_w)"
   ]
  },
  {
   "cell_type": "code",
   "execution_count": null,
   "metadata": {},
   "outputs": [],
   "source": []
  }
 ],
 "metadata": {
  "kernelspec": {
   "display_name": "Python 3",
   "language": "python",
   "name": "python3"
  },
  "language_info": {
   "codemirror_mode": {
    "name": "ipython",
    "version": 3
   },
   "file_extension": ".py",
   "mimetype": "text/x-python",
   "name": "python",
   "nbconvert_exporter": "python",
   "pygments_lexer": "ipython3",
   "version": "3.7.3"
  }
 },
 "nbformat": 4,
 "nbformat_minor": 2
}
