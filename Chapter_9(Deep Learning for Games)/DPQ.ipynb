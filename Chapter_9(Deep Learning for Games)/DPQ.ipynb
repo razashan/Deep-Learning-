{
  "nbformat": 4,
  "nbformat_minor": 0,
  "metadata": {
    "colab": {
      "name": "DPQ.ipynb",
      "provenance": []
    },
    "kernelspec": {
      "name": "python3",
      "display_name": "Python 3"
    }
  },
  "cells": [
    {
      "cell_type": "code",
      "metadata": {
        "id": "RcUpN3G2px2L",
        "colab_type": "code",
        "outputId": "de97d5ff-3728-4a11-edf3-a7845fada71b",
        "colab": {
          "base_uri": "https://localhost:8080/",
          "height": 98
        }
      },
      "source": [
        "import keras\n",
        "from keras.datasets import cifar10\n",
        "from keras.layers import Conv2D, MaxPooling2D\n",
        "from keras.layers import Dense, Dropout,Activation,Flatten,BatchNormalization\n",
        "from keras.models import Sequential\n",
        "from keras.preprocessing.image import ImageDataGenerator"
      ],
      "execution_count": 0,
      "outputs": [
        {
          "output_type": "stream",
          "text": [
            "Using TensorFlow backend.\n"
          ],
          "name": "stderr"
        },
        {
          "output_type": "display_data",
          "data": {
            "text/html": [
              "<p style=\"color: red;\">\n",
              "The default version of TensorFlow in Colab will soon switch to TensorFlow 2.x.<br>\n",
              "We recommend you <a href=\"https://www.tensorflow.org/guide/migrate\" target=\"_blank\">upgrade</a> now \n",
              "or ensure your notebook will continue to use TensorFlow 1.x via the <code>%tensorflow_version 1.x</code> magic:\n",
              "<a href=\"https://colab.research.google.com/notebooks/tensorflow_version.ipynb\" target=\"_blank\">more info</a>.</p>\n"
            ],
            "text/plain": [
              "<IPython.core.display.HTML object>"
            ]
          },
          "metadata": {
            "tags": []
          }
        }
      ]
    },
    {
      "cell_type": "code",
      "metadata": {
        "id": "_L_ZgWwQrp3S",
        "colab_type": "code",
        "colab": {}
      },
      "source": [
        "batch_size = 50"
      ],
      "execution_count": 0,
      "outputs": []
    },
    {
      "cell_type": "code",
      "metadata": {
        "id": "2G5ESZSVrsvR",
        "colab_type": "code",
        "outputId": "c06fc8e3-d906-4b92-ca06-e8db9e0a1b3f",
        "colab": {
          "base_uri": "https://localhost:8080/",
          "height": 51
        }
      },
      "source": [
        "(X_train, Y_train),(X_test,Y_test) = cifar10.load_data()"
      ],
      "execution_count": 0,
      "outputs": [
        {
          "output_type": "stream",
          "text": [
            "Downloading data from https://www.cs.toronto.edu/~kriz/cifar-10-python.tar.gz\n",
            "170500096/170498071 [==============================] - 2s 0us/step\n"
          ],
          "name": "stdout"
        }
      ]
    },
    {
      "cell_type": "code",
      "metadata": {
        "id": "DjThyGHKrydP",
        "colab_type": "code",
        "colab": {}
      },
      "source": [
        "X_train = X_train.astype('float32')\n",
        "X_test = X_test.astype('float32')\n",
        "X_train /=255\n",
        "X_test /=255"
      ],
      "execution_count": 0,
      "outputs": []
    },
    {
      "cell_type": "code",
      "metadata": {
        "id": "u4nsvP9_sAW3",
        "colab_type": "code",
        "colab": {}
      },
      "source": [
        "Y_train = keras.utils.to_categorical(Y_train,10)\n",
        "Y_test = keras.utils.to_categorical(Y_test,10)"
      ],
      "execution_count": 0,
      "outputs": []
    },
    {
      "cell_type": "code",
      "metadata": {
        "id": "ypNLi7nUsLBU",
        "colab_type": "code",
        "colab": {}
      },
      "source": [
        "data_generator = ImageDataGenerator(rotation_range=90,\n",
        "                                    width_shift_range=0.1,\n",
        "                                    height_shift_range=0.1,\n",
        "                                    featurewise_center=True,\n",
        "                                    featurewise_std_normalization=True,\n",
        "                                    horizontal_flip=True)\n",
        "data_generator.fit(X_train)"
      ],
      "execution_count": 0,
      "outputs": []
    },
    {
      "cell_type": "code",
      "metadata": {
        "id": "iD-eWPrtsl5l",
        "colab_type": "code",
        "outputId": "d025111a-1a82-4557-da69-3e301520d279",
        "colab": {
          "base_uri": "https://localhost:8080/",
          "height": 1000
        }
      },
      "source": [
        "for i in range(len(X_test)):\n",
        "  X_test[i] = data_generator.standardize(X_test[i])\n",
        "\n",
        "model = Sequential()\n",
        "model.add(Conv2D(32,(3,3),padding='same',input_shape=X_train.shape[1:]))\n",
        "model.add(Activation('elu'))\n",
        "model.add(BatchNormalization())\n",
        "model.add(Conv2D(32,(3,3),padding='same'))\n",
        "model.add(Activation('elu'))\n",
        "model.add(BatchNormalization())\n",
        "model.add(MaxPooling2D(pool_size=(2,2)))\n",
        "model.add(Dropout(0.2))\n",
        "\n",
        "model.add(Conv2D(64,(3,3),padding='same'))\n",
        "model.add(Activation('elu'))\n",
        "model.add(BatchNormalization())\n",
        "model.add(Conv2D(64,(3,3),padding='same'))\n",
        "model.add(Activation('elu'))\n",
        "model.add(BatchNormalization())\n",
        "model.add(MaxPooling2D(pool_size=(2,2)))\n",
        "model.add(Dropout(0.2))\n",
        "\n",
        "\n",
        "model.add(Conv2D(128,(3,3),padding='same'))\n",
        "model.add(Activation('elu'))\n",
        "model.add(BatchNormalization())\n",
        "model.add(Conv2D(128,(3,3),padding='same'))\n",
        "model.add(Activation('elu'))\n",
        "model.add(BatchNormalization())\n",
        "model.add(MaxPooling2D(pool_size=(2,2)))\n",
        "model.add(Dropout(0.2))\n",
        "\n",
        "model.add(Flatten())\n",
        "model.add(Dense(10,activation='softmax'))\n",
        "\n",
        "model.compile(loss='categorical_crossentropy',optimizer='adam',metrics=['accuracy'])\n",
        "\n",
        "model.fit_generator(\n",
        "    generator = data_generator.flow(x=X_train,\n",
        "                                    y=Y_train,\n",
        "                                    batch_size=batch_size\n",
        "                                    ),\n",
        "    steps_per_epoch = len(X_train)//batch_size,\n",
        "    epochs=100,\n",
        "    validation_data = (X_test,Y_test),\n",
        "    workers=4\n",
        ")"
      ],
      "execution_count": 0,
      "outputs": [
        {
          "output_type": "stream",
          "text": [
            "WARNING:tensorflow:From /usr/local/lib/python3.6/dist-packages/keras/backend/tensorflow_backend.py:66: The name tf.get_default_graph is deprecated. Please use tf.compat.v1.get_default_graph instead.\n",
            "\n",
            "WARNING:tensorflow:From /usr/local/lib/python3.6/dist-packages/keras/backend/tensorflow_backend.py:541: The name tf.placeholder is deprecated. Please use tf.compat.v1.placeholder instead.\n",
            "\n",
            "WARNING:tensorflow:From /usr/local/lib/python3.6/dist-packages/keras/backend/tensorflow_backend.py:4432: The name tf.random_uniform is deprecated. Please use tf.random.uniform instead.\n",
            "\n",
            "WARNING:tensorflow:From /usr/local/lib/python3.6/dist-packages/keras/backend/tensorflow_backend.py:190: The name tf.get_default_session is deprecated. Please use tf.compat.v1.get_default_session instead.\n",
            "\n",
            "WARNING:tensorflow:From /usr/local/lib/python3.6/dist-packages/keras/backend/tensorflow_backend.py:197: The name tf.ConfigProto is deprecated. Please use tf.compat.v1.ConfigProto instead.\n",
            "\n",
            "WARNING:tensorflow:From /usr/local/lib/python3.6/dist-packages/keras/backend/tensorflow_backend.py:203: The name tf.Session is deprecated. Please use tf.compat.v1.Session instead.\n",
            "\n",
            "WARNING:tensorflow:From /usr/local/lib/python3.6/dist-packages/keras/backend/tensorflow_backend.py:207: The name tf.global_variables is deprecated. Please use tf.compat.v1.global_variables instead.\n",
            "\n",
            "WARNING:tensorflow:From /usr/local/lib/python3.6/dist-packages/keras/backend/tensorflow_backend.py:216: The name tf.is_variable_initialized is deprecated. Please use tf.compat.v1.is_variable_initialized instead.\n",
            "\n",
            "WARNING:tensorflow:From /usr/local/lib/python3.6/dist-packages/keras/backend/tensorflow_backend.py:223: The name tf.variables_initializer is deprecated. Please use tf.compat.v1.variables_initializer instead.\n",
            "\n",
            "WARNING:tensorflow:From /usr/local/lib/python3.6/dist-packages/keras/backend/tensorflow_backend.py:2041: The name tf.nn.fused_batch_norm is deprecated. Please use tf.compat.v1.nn.fused_batch_norm instead.\n",
            "\n",
            "WARNING:tensorflow:From /usr/local/lib/python3.6/dist-packages/keras/backend/tensorflow_backend.py:148: The name tf.placeholder_with_default is deprecated. Please use tf.compat.v1.placeholder_with_default instead.\n",
            "\n",
            "WARNING:tensorflow:From /usr/local/lib/python3.6/dist-packages/keras/backend/tensorflow_backend.py:4267: The name tf.nn.max_pool is deprecated. Please use tf.nn.max_pool2d instead.\n",
            "\n",
            "WARNING:tensorflow:From /usr/local/lib/python3.6/dist-packages/keras/backend/tensorflow_backend.py:3733: calling dropout (from tensorflow.python.ops.nn_ops) with keep_prob is deprecated and will be removed in a future version.\n",
            "Instructions for updating:\n",
            "Please use `rate` instead of `keep_prob`. Rate should be set to `rate = 1 - keep_prob`.\n",
            "WARNING:tensorflow:From /usr/local/lib/python3.6/dist-packages/keras/optimizers.py:793: The name tf.train.Optimizer is deprecated. Please use tf.compat.v1.train.Optimizer instead.\n",
            "\n",
            "WARNING:tensorflow:From /usr/local/lib/python3.6/dist-packages/keras/backend/tensorflow_backend.py:3576: The name tf.log is deprecated. Please use tf.math.log instead.\n",
            "\n",
            "WARNING:tensorflow:From /tensorflow-1.15.0/python3.6/tensorflow_core/python/ops/math_grad.py:1424: where (from tensorflow.python.ops.array_ops) is deprecated and will be removed in a future version.\n",
            "Instructions for updating:\n",
            "Use tf.where in 2.0, which has the same broadcast rule as np.where\n",
            "WARNING:tensorflow:From /usr/local/lib/python3.6/dist-packages/keras/backend/tensorflow_backend.py:1033: The name tf.assign_add is deprecated. Please use tf.compat.v1.assign_add instead.\n",
            "\n",
            "WARNING:tensorflow:From /usr/local/lib/python3.6/dist-packages/keras/backend/tensorflow_backend.py:1020: The name tf.assign is deprecated. Please use tf.compat.v1.assign instead.\n",
            "\n",
            "Epoch 1/100\n",
            "1000/1000 [==============================] - 549s 549ms/step - loss: 1.9545 - acc: 0.3500 - val_loss: 1.8476 - val_acc: 0.4259\n",
            "Epoch 2/100\n",
            "1000/1000 [==============================] - 541s 541ms/step - loss: 1.5286 - acc: 0.4638 - val_loss: 1.5125 - val_acc: 0.5050\n",
            "Epoch 3/100\n",
            "1000/1000 [==============================] - 540s 540ms/step - loss: 1.3418 - acc: 0.5270 - val_loss: 1.2603 - val_acc: 0.5655\n",
            "Epoch 4/100\n",
            "1000/1000 [==============================] - 541s 541ms/step - loss: 1.2192 - acc: 0.5698 - val_loss: 1.1553 - val_acc: 0.6038\n",
            "Epoch 5/100\n",
            "1000/1000 [==============================] - 539s 539ms/step - loss: 1.1394 - acc: 0.6000 - val_loss: 1.2229 - val_acc: 0.6049\n",
            "Epoch 6/100\n",
            "1000/1000 [==============================] - 539s 539ms/step - loss: 1.0783 - acc: 0.6224 - val_loss: 1.1371 - val_acc: 0.6263\n",
            "Epoch 7/100\n",
            "1000/1000 [==============================] - 537s 537ms/step - loss: 1.0244 - acc: 0.6408 - val_loss: 1.0494 - val_acc: 0.6521\n",
            "Epoch 8/100\n",
            "1000/1000 [==============================] - 539s 539ms/step - loss: 0.9841 - acc: 0.6561 - val_loss: 0.9323 - val_acc: 0.6834\n",
            "Epoch 9/100\n",
            "1000/1000 [==============================] - 544s 544ms/step - loss: 0.9469 - acc: 0.6699 - val_loss: 0.9653 - val_acc: 0.6780\n",
            "Epoch 10/100\n",
            "1000/1000 [==============================] - 543s 543ms/step - loss: 0.9223 - acc: 0.6778 - val_loss: 0.8867 - val_acc: 0.7050\n",
            "Epoch 11/100\n",
            "1000/1000 [==============================] - 549s 549ms/step - loss: 0.8891 - acc: 0.6879 - val_loss: 0.9193 - val_acc: 0.6948\n",
            "Epoch 12/100\n",
            "1000/1000 [==============================] - 543s 543ms/step - loss: 0.8705 - acc: 0.6958 - val_loss: 0.8175 - val_acc: 0.7292\n",
            "Epoch 13/100\n",
            "1000/1000 [==============================] - 539s 539ms/step - loss: 0.8533 - acc: 0.7020 - val_loss: 0.8763 - val_acc: 0.7108\n",
            "Epoch 14/100\n",
            "1000/1000 [==============================] - 536s 536ms/step - loss: 0.8412 - acc: 0.7077 - val_loss: 0.7820 - val_acc: 0.7353\n",
            "Epoch 15/100\n",
            "1000/1000 [==============================] - 540s 540ms/step - loss: 0.8202 - acc: 0.7134 - val_loss: 0.8786 - val_acc: 0.7078\n",
            "Epoch 16/100\n",
            "1000/1000 [==============================] - 547s 547ms/step - loss: 0.8068 - acc: 0.7201 - val_loss: 0.8047 - val_acc: 0.7323\n",
            "Epoch 17/100\n",
            "1000/1000 [==============================] - 541s 541ms/step - loss: 0.7987 - acc: 0.7225 - val_loss: 0.8091 - val_acc: 0.7319\n",
            "Epoch 18/100\n",
            "1000/1000 [==============================] - 552s 552ms/step - loss: 0.7883 - acc: 0.7261 - val_loss: 0.8193 - val_acc: 0.7335\n",
            "Epoch 19/100\n",
            "1000/1000 [==============================] - 554s 554ms/step - loss: 0.7754 - acc: 0.7314 - val_loss: 0.8100 - val_acc: 0.7326\n",
            "Epoch 20/100\n",
            "1000/1000 [==============================] - 547s 547ms/step - loss: 0.7675 - acc: 0.7322 - val_loss: 0.7317 - val_acc: 0.7514\n",
            "Epoch 21/100\n",
            "1000/1000 [==============================] - 545s 545ms/step - loss: 0.7597 - acc: 0.7369 - val_loss: 0.8126 - val_acc: 0.7379\n",
            "Epoch 22/100\n",
            " 748/1000 [=====================>........] - ETA: 2:07 - loss: 0.7475 - acc: 0.7398"
          ],
          "name": "stdout"
        }
      ]
    },
    {
      "cell_type": "code",
      "metadata": {
        "id": "RuJpcDApvWGp",
        "colab_type": "code",
        "colab": {}
      },
      "source": [
        ""
      ],
      "execution_count": 0,
      "outputs": []
    }
  ]
}